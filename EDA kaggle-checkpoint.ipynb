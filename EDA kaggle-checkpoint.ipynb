{
 "cells": [
  {
   "cell_type": "code",
   "execution_count": 1,
   "metadata": {},
   "outputs": [],
   "source": [
    "#import libraries\n",
    "import os\n",
    "import pandas as pd\n",
    "import numpy as ny\n",
    "import matplotlib.pyplot as plt\n",
    "import seaborn as sns"
   ]
  },
  {
   "cell_type": "code",
   "execution_count": 2,
   "metadata": {},
   "outputs": [],
   "source": [
    "#define working dict\n",
    "os.chdir(r'C:\\Users\\Deepak Goswami\\Desktop\\carsales')"
   ]
  },
  {
   "cell_type": "code",
   "execution_count": 3,
   "metadata": {},
   "outputs": [],
   "source": [
    "#import dataset\n",
    "cars = pd.read_csv('car_sales.csv')"
   ]
  },
  {
   "cell_type": "code",
   "execution_count": 4,
   "metadata": {},
   "outputs": [
    {
     "data": {
      "text/html": [
       "<div>\n",
       "<style scoped>\n",
       "    .dataframe tbody tr th:only-of-type {\n",
       "        vertical-align: middle;\n",
       "    }\n",
       "\n",
       "    .dataframe tbody tr th {\n",
       "        vertical-align: top;\n",
       "    }\n",
       "\n",
       "    .dataframe thead th {\n",
       "        text-align: right;\n",
       "    }\n",
       "</style>\n",
       "<table border=\"1\" class=\"dataframe\">\n",
       "  <thead>\n",
       "    <tr style=\"text-align: right;\">\n",
       "      <th></th>\n",
       "      <th>Manufacturer</th>\n",
       "      <th>Model</th>\n",
       "      <th>Sales in thousands</th>\n",
       "      <th>4-year resale value</th>\n",
       "      <th>Vehicle type</th>\n",
       "      <th>Price in thousands</th>\n",
       "      <th>Engine size</th>\n",
       "      <th>Horsepower</th>\n",
       "      <th>Wheelbase</th>\n",
       "      <th>Width</th>\n",
       "      <th>Length</th>\n",
       "      <th>Curb weight</th>\n",
       "      <th>Fuel capacity</th>\n",
       "      <th>Fuel efficiency</th>\n",
       "      <th>Latest Launch</th>\n",
       "    </tr>\n",
       "  </thead>\n",
       "  <tbody>\n",
       "    <tr>\n",
       "      <th>0</th>\n",
       "      <td>Acura</td>\n",
       "      <td>Integra</td>\n",
       "      <td>16.919</td>\n",
       "      <td>16.36</td>\n",
       "      <td>Passenger</td>\n",
       "      <td>21.5</td>\n",
       "      <td>1.8</td>\n",
       "      <td>140</td>\n",
       "      <td>101.2</td>\n",
       "      <td>67.3</td>\n",
       "      <td>172.4</td>\n",
       "      <td>2.639</td>\n",
       "      <td>13.2</td>\n",
       "      <td>28</td>\n",
       "      <td>2-Feb-14</td>\n",
       "    </tr>\n",
       "    <tr>\n",
       "      <th>1</th>\n",
       "      <td>Acura</td>\n",
       "      <td>TL</td>\n",
       "      <td>39.384</td>\n",
       "      <td>19.875</td>\n",
       "      <td>Passenger</td>\n",
       "      <td>28.4</td>\n",
       "      <td>3.2</td>\n",
       "      <td>225</td>\n",
       "      <td>108.1</td>\n",
       "      <td>70.3</td>\n",
       "      <td>192.9</td>\n",
       "      <td>3.517</td>\n",
       "      <td>17.2</td>\n",
       "      <td>25</td>\n",
       "      <td>6-Mar-15</td>\n",
       "    </tr>\n",
       "    <tr>\n",
       "      <th>2</th>\n",
       "      <td>Acura</td>\n",
       "      <td>CL</td>\n",
       "      <td>14.114</td>\n",
       "      <td>18.225</td>\n",
       "      <td>Passenger</td>\n",
       "      <td>.</td>\n",
       "      <td>3.2</td>\n",
       "      <td>225</td>\n",
       "      <td>106.9</td>\n",
       "      <td>70.6</td>\n",
       "      <td>192</td>\n",
       "      <td>3.47</td>\n",
       "      <td>17.2</td>\n",
       "      <td>26</td>\n",
       "      <td>1-Apr-14</td>\n",
       "    </tr>\n",
       "    <tr>\n",
       "      <th>3</th>\n",
       "      <td>Acura</td>\n",
       "      <td>RL</td>\n",
       "      <td>8.588</td>\n",
       "      <td>29.725</td>\n",
       "      <td>Passenger</td>\n",
       "      <td>42</td>\n",
       "      <td>3.5</td>\n",
       "      <td>210</td>\n",
       "      <td>114.6</td>\n",
       "      <td>71.4</td>\n",
       "      <td>196.6</td>\n",
       "      <td>3.85</td>\n",
       "      <td>18</td>\n",
       "      <td>22</td>\n",
       "      <td>3-Oct-15</td>\n",
       "    </tr>\n",
       "    <tr>\n",
       "      <th>4</th>\n",
       "      <td>Audi</td>\n",
       "      <td>A4</td>\n",
       "      <td>20.397</td>\n",
       "      <td>22.255</td>\n",
       "      <td>Passenger</td>\n",
       "      <td>23.99</td>\n",
       "      <td>1.8</td>\n",
       "      <td>150</td>\n",
       "      <td>102.6</td>\n",
       "      <td>68.2</td>\n",
       "      <td>178</td>\n",
       "      <td>2.998</td>\n",
       "      <td>16.4</td>\n",
       "      <td>27</td>\n",
       "      <td>10-Aug-15</td>\n",
       "    </tr>\n",
       "  </tbody>\n",
       "</table>\n",
       "</div>"
      ],
      "text/plain": [
       "    Manufacturer              Model  Sales in thousands 4-year resale value  \\\n",
       "0  Acura          Integra                        16.919               16.36   \n",
       "1  Acura          TL                             39.384              19.875   \n",
       "2  Acura          CL                             14.114              18.225   \n",
       "3  Acura          RL                              8.588              29.725   \n",
       "4  Audi           A4                             20.397              22.255   \n",
       "\n",
       "  Vehicle type Price in thousands Engine size Horsepower Wheelbase Width  \\\n",
       "0    Passenger               21.5         1.8        140     101.2  67.3   \n",
       "1    Passenger               28.4         3.2        225     108.1  70.3   \n",
       "2    Passenger                  .         3.2        225     106.9  70.6   \n",
       "3    Passenger                 42         3.5        210     114.6  71.4   \n",
       "4    Passenger              23.99         1.8        150     102.6  68.2   \n",
       "\n",
       "  Length Curb weight Fuel capacity Fuel efficiency Latest Launch  \n",
       "0  172.4       2.639          13.2              28      2-Feb-14  \n",
       "1  192.9       3.517          17.2              25      6-Mar-15  \n",
       "2    192        3.47          17.2              26      1-Apr-14  \n",
       "3  196.6        3.85            18              22      3-Oct-15  \n",
       "4    178       2.998          16.4              27     10-Aug-15  "
      ]
     },
     "execution_count": 4,
     "metadata": {},
     "output_type": "execute_result"
    }
   ],
   "source": [
    "#top five obs\n",
    "cars.head()"
   ]
  },
  {
   "cell_type": "code",
   "execution_count": 5,
   "metadata": {},
   "outputs": [
    {
     "name": "stdout",
     "output_type": "stream",
     "text": [
      "<class 'pandas.core.frame.DataFrame'>\n",
      "RangeIndex: 157 entries, 0 to 156\n",
      "Data columns (total 15 columns):\n",
      "Manufacturer           157 non-null object\n",
      "Model                  157 non-null object\n",
      "Sales in thousands     157 non-null float64\n",
      "4-year resale value    157 non-null object\n",
      "Vehicle type           157 non-null object\n",
      "Price in thousands     157 non-null object\n",
      "Engine size            157 non-null object\n",
      "Horsepower             157 non-null object\n",
      "Wheelbase              157 non-null object\n",
      "Width                  157 non-null object\n",
      "Length                 157 non-null object\n",
      "Curb weight            157 non-null object\n",
      "Fuel capacity          157 non-null object\n",
      "Fuel efficiency        157 non-null object\n",
      "Latest Launch          157 non-null object\n",
      "dtypes: float64(1), object(14)\n",
      "memory usage: 18.5+ KB\n"
     ]
    }
   ],
   "source": [
    "#data infor\n",
    "cars.info()"
   ]
  },
  {
   "cell_type": "code",
   "execution_count": 6,
   "metadata": {},
   "outputs": [],
   "source": [
    "#drop unimportant variable\n",
    "drop_cols=[\"Width\"]\n",
    "cars=cars.drop(drop_cols,axis=1)"
   ]
  },
  {
   "cell_type": "code",
   "execution_count": 7,
   "metadata": {},
   "outputs": [
    {
     "name": "stdout",
     "output_type": "stream",
     "text": [
      "<class 'pandas.core.frame.DataFrame'>\n",
      "RangeIndex: 157 entries, 0 to 156\n",
      "Data columns (total 14 columns):\n",
      "Manufacturer           157 non-null object\n",
      "Model                  157 non-null object\n",
      "Sales in thousands     157 non-null float64\n",
      "4-year resale value    157 non-null object\n",
      "Vehicle type           157 non-null object\n",
      "Price in thousands     157 non-null object\n",
      "Engine size            157 non-null object\n",
      "Horsepower             157 non-null object\n",
      "Wheelbase              157 non-null object\n",
      "Length                 157 non-null object\n",
      "Curb weight            157 non-null object\n",
      "Fuel capacity          157 non-null object\n",
      "Fuel efficiency        157 non-null object\n",
      "Latest Launch          157 non-null object\n",
      "dtypes: float64(1), object(13)\n",
      "memory usage: 17.2+ KB\n"
     ]
    }
   ],
   "source": [
    "cars.info()"
   ]
  },
  {
   "cell_type": "code",
   "execution_count": 8,
   "metadata": {},
   "outputs": [],
   "source": [
    "#drop duplicate rows\n",
    "cars=cars.drop_duplicates(keep='first')"
   ]
  },
  {
   "cell_type": "code",
   "execution_count": 9,
   "metadata": {
    "scrolled": true
   },
   "outputs": [
    {
     "name": "stdout",
     "output_type": "stream",
     "text": [
      "<class 'pandas.core.frame.DataFrame'>\n",
      "Int64Index: 157 entries, 0 to 156\n",
      "Data columns (total 14 columns):\n",
      "Manufacturer           157 non-null object\n",
      "Model                  157 non-null object\n",
      "Sales in thousands     157 non-null float64\n",
      "4-year resale value    157 non-null object\n",
      "Vehicle type           157 non-null object\n",
      "Price in thousands     157 non-null object\n",
      "Engine size            157 non-null object\n",
      "Horsepower             157 non-null object\n",
      "Wheelbase              157 non-null object\n",
      "Length                 157 non-null object\n",
      "Curb weight            157 non-null object\n",
      "Fuel capacity          157 non-null object\n",
      "Fuel efficiency        157 non-null object\n",
      "Latest Launch          157 non-null object\n",
      "dtypes: float64(1), object(13)\n",
      "memory usage: 18.4+ KB\n"
     ]
    }
   ],
   "source": [
    "cars.info()"
   ]
  },
  {
   "cell_type": "code",
   "execution_count": 10,
   "metadata": {},
   "outputs": [
    {
     "data": {
      "text/plain": [
       "(157, 14)"
      ]
     },
     "execution_count": 10,
     "metadata": {},
     "output_type": "execute_result"
    }
   ],
   "source": [
    "#shape of data\n",
    "cars.shape"
   ]
  },
  {
   "cell_type": "code",
   "execution_count": 11,
   "metadata": {},
   "outputs": [
    {
     "data": {
      "text/html": [
       "<div>\n",
       "<style scoped>\n",
       "    .dataframe tbody tr th:only-of-type {\n",
       "        vertical-align: middle;\n",
       "    }\n",
       "\n",
       "    .dataframe tbody tr th {\n",
       "        vertical-align: top;\n",
       "    }\n",
       "\n",
       "    .dataframe thead th {\n",
       "        text-align: right;\n",
       "    }\n",
       "</style>\n",
       "<table border=\"1\" class=\"dataframe\">\n",
       "  <thead>\n",
       "    <tr style=\"text-align: right;\">\n",
       "      <th></th>\n",
       "      <th>Sales in thousands</th>\n",
       "    </tr>\n",
       "  </thead>\n",
       "  <tbody>\n",
       "    <tr>\n",
       "      <th>count</th>\n",
       "      <td>157.000000</td>\n",
       "    </tr>\n",
       "    <tr>\n",
       "      <th>mean</th>\n",
       "      <td>52.998076</td>\n",
       "    </tr>\n",
       "    <tr>\n",
       "      <th>std</th>\n",
       "      <td>68.029422</td>\n",
       "    </tr>\n",
       "    <tr>\n",
       "      <th>min</th>\n",
       "      <td>0.110000</td>\n",
       "    </tr>\n",
       "    <tr>\n",
       "      <th>25%</th>\n",
       "      <td>14.114000</td>\n",
       "    </tr>\n",
       "    <tr>\n",
       "      <th>50%</th>\n",
       "      <td>29.450000</td>\n",
       "    </tr>\n",
       "    <tr>\n",
       "      <th>75%</th>\n",
       "      <td>67.956000</td>\n",
       "    </tr>\n",
       "    <tr>\n",
       "      <th>max</th>\n",
       "      <td>540.561000</td>\n",
       "    </tr>\n",
       "  </tbody>\n",
       "</table>\n",
       "</div>"
      ],
      "text/plain": [
       "       Sales in thousands\n",
       "count          157.000000\n",
       "mean            52.998076\n",
       "std             68.029422\n",
       "min              0.110000\n",
       "25%             14.114000\n",
       "50%             29.450000\n",
       "75%             67.956000\n",
       "max            540.561000"
      ]
     },
     "execution_count": 11,
     "metadata": {},
     "output_type": "execute_result"
    }
   ],
   "source": [
    "#summary stats\n",
    "cars.describe()"
   ]
  },
  {
   "cell_type": "code",
   "execution_count": 12,
   "metadata": {},
   "outputs": [
    {
     "data": {
      "text/html": [
       "<div>\n",
       "<style scoped>\n",
       "    .dataframe tbody tr th:only-of-type {\n",
       "        vertical-align: middle;\n",
       "    }\n",
       "\n",
       "    .dataframe tbody tr th {\n",
       "        vertical-align: top;\n",
       "    }\n",
       "\n",
       "    .dataframe thead th {\n",
       "        text-align: right;\n",
       "    }\n",
       "</style>\n",
       "<table border=\"1\" class=\"dataframe\">\n",
       "  <thead>\n",
       "    <tr style=\"text-align: right;\">\n",
       "      <th></th>\n",
       "      <th>Manufacturer</th>\n",
       "      <th>Model</th>\n",
       "      <th>Sales in thousands</th>\n",
       "      <th>4-year resale value</th>\n",
       "      <th>Vehicle type</th>\n",
       "      <th>Price in thousands</th>\n",
       "      <th>Engine size</th>\n",
       "      <th>Horsepower</th>\n",
       "      <th>Wheelbase</th>\n",
       "      <th>Length</th>\n",
       "      <th>Curb weight</th>\n",
       "      <th>Fuel capacity</th>\n",
       "      <th>Fuel efficiency</th>\n",
       "      <th>Latest Launch</th>\n",
       "    </tr>\n",
       "  </thead>\n",
       "  <tbody>\n",
       "    <tr>\n",
       "      <th>26</th>\n",
       "      <td>Chevrolet</td>\n",
       "      <td>Metro</td>\n",
       "      <td>21.855</td>\n",
       "      <td>5.16</td>\n",
       "      <td>Passenger</td>\n",
       "      <td>9.235</td>\n",
       "      <td>1</td>\n",
       "      <td>55</td>\n",
       "      <td>93.1</td>\n",
       "      <td>149.4</td>\n",
       "      <td>1.895</td>\n",
       "      <td>10.3</td>\n",
       "      <td>45</td>\n",
       "      <td>13-Apr-14</td>\n",
       "    </tr>\n",
       "    <tr>\n",
       "      <th>25</th>\n",
       "      <td>Chevrolet</td>\n",
       "      <td>Prizm</td>\n",
       "      <td>32.299</td>\n",
       "      <td>9.125</td>\n",
       "      <td>Passenger</td>\n",
       "      <td>13.96</td>\n",
       "      <td>1.8</td>\n",
       "      <td>120</td>\n",
       "      <td>97.1</td>\n",
       "      <td>174.3</td>\n",
       "      <td>2.398</td>\n",
       "      <td>13.2</td>\n",
       "      <td>33</td>\n",
       "      <td>9-Nov-15</td>\n",
       "    </tr>\n",
       "    <tr>\n",
       "      <th>136</th>\n",
       "      <td>Toyota</td>\n",
       "      <td>Corolla</td>\n",
       "      <td>142.535</td>\n",
       "      <td>10.025</td>\n",
       "      <td>Passenger</td>\n",
       "      <td>13.108</td>\n",
       "      <td>1.8</td>\n",
       "      <td>120</td>\n",
       "      <td>97</td>\n",
       "      <td>174</td>\n",
       "      <td>2.42</td>\n",
       "      <td>13.2</td>\n",
       "      <td>33</td>\n",
       "      <td>4-Nov-15</td>\n",
       "    </tr>\n",
       "    <tr>\n",
       "      <th>130</th>\n",
       "      <td>Saturn</td>\n",
       "      <td>SC</td>\n",
       "      <td>24.546</td>\n",
       "      <td>10.59</td>\n",
       "      <td>Passenger</td>\n",
       "      <td>12.535</td>\n",
       "      <td>1.9</td>\n",
       "      <td>100</td>\n",
       "      <td>102.4</td>\n",
       "      <td>180</td>\n",
       "      <td>2.367</td>\n",
       "      <td>12.1</td>\n",
       "      <td>33</td>\n",
       "      <td>16-Mar-15</td>\n",
       "    </tr>\n",
       "    <tr>\n",
       "      <th>129</th>\n",
       "      <td>Saturn</td>\n",
       "      <td>SL</td>\n",
       "      <td>80.620</td>\n",
       "      <td>9.2</td>\n",
       "      <td>Passenger</td>\n",
       "      <td>10.685</td>\n",
       "      <td>1.9</td>\n",
       "      <td>100</td>\n",
       "      <td>102.4</td>\n",
       "      <td>176.9</td>\n",
       "      <td>2.332</td>\n",
       "      <td>12.1</td>\n",
       "      <td>33</td>\n",
       "      <td>16-Aug-14</td>\n",
       "    </tr>\n",
       "  </tbody>\n",
       "</table>\n",
       "</div>"
      ],
      "text/plain": [
       "      Manufacturer              Model  Sales in thousands 4-year resale value  \\\n",
       "26   Chevrolet      Metro                          21.855                5.16   \n",
       "25   Chevrolet      Prizm                          32.299               9.125   \n",
       "136  Toyota         Corolla                       142.535              10.025   \n",
       "130  Saturn         SC                             24.546               10.59   \n",
       "129  Saturn         SL                             80.620                 9.2   \n",
       "\n",
       "    Vehicle type Price in thousands Engine size Horsepower Wheelbase Length  \\\n",
       "26     Passenger              9.235           1         55      93.1  149.4   \n",
       "25     Passenger              13.96         1.8        120      97.1  174.3   \n",
       "136    Passenger             13.108         1.8        120        97    174   \n",
       "130    Passenger             12.535         1.9        100     102.4    180   \n",
       "129    Passenger             10.685         1.9        100     102.4  176.9   \n",
       "\n",
       "    Curb weight Fuel capacity Fuel efficiency Latest Launch  \n",
       "26        1.895          10.3              45     13-Apr-14  \n",
       "25        2.398          13.2              33      9-Nov-15  \n",
       "136        2.42          13.2              33      4-Nov-15  \n",
       "130       2.367          12.1              33     16-Mar-15  \n",
       "129       2.332          12.1              33     16-Aug-14  "
      ]
     },
     "execution_count": 12,
     "metadata": {},
     "output_type": "execute_result"
    }
   ],
   "source": [
    "#sorting w.r.t a variable\n",
    "cars_sort=cars.sort_values(by='Fuel efficiency', ascending=False).head()\n",
    "cars_sort.head()"
   ]
  },
  {
   "cell_type": "code",
   "execution_count": 13,
   "metadata": {},
   "outputs": [
    {
     "data": {
      "text/plain": [
       "([array([1., 0., 0., 0., 0.]),\n",
       "  array([1., 0., 0., 0., 0.]),\n",
       "  array([1., 0., 0., 0., 0.]),\n",
       "  array([1., 0., 0., 0., 0.]),\n",
       "  array([1., 0., 0., 0., 0.]),\n",
       "  array([1., 0., 0., 0., 0.]),\n",
       "  array([1., 0., 0., 0., 0.]),\n",
       "  array([1., 0., 0., 0., 0.]),\n",
       "  array([1., 0., 0., 0., 0.]),\n",
       "  array([1., 0., 0., 0., 0.]),\n",
       "  array([1., 0., 0., 0., 0.]),\n",
       "  array([1., 0., 0., 0., 0.]),\n",
       "  array([1., 0., 0., 0., 0.]),\n",
       "  array([1., 0., 0., 0., 0.]),\n",
       "  array([1., 0., 0., 0., 0.]),\n",
       "  array([1., 0., 0., 0., 0.]),\n",
       "  array([1., 0., 0., 0., 0.]),\n",
       "  array([1., 0., 0., 0., 0.]),\n",
       "  array([1., 0., 0., 0., 0.]),\n",
       "  array([1., 0., 0., 0., 0.]),\n",
       "  array([1., 0., 0., 0., 0.]),\n",
       "  array([1., 0., 0., 0., 0.]),\n",
       "  array([1., 0., 0., 0., 0.]),\n",
       "  array([1., 0., 0., 0., 0.]),\n",
       "  array([1., 0., 0., 0., 0.]),\n",
       "  array([1., 0., 0., 0., 0.]),\n",
       "  array([1., 0., 0., 0., 0.]),\n",
       "  array([1., 0., 0., 0., 0.]),\n",
       "  array([1., 0., 0., 0., 0.]),\n",
       "  array([1., 0., 0., 0., 0.]),\n",
       "  array([1., 0., 0., 0., 0.]),\n",
       "  array([0., 1., 0., 0., 0.]),\n",
       "  array([0., 1., 0., 0., 0.]),\n",
       "  array([0., 1., 0., 0., 0.]),\n",
       "  array([0., 1., 0., 0., 0.]),\n",
       "  array([0., 1., 0., 0., 0.]),\n",
       "  array([0., 1., 0., 0., 0.]),\n",
       "  array([0., 1., 0., 0., 0.]),\n",
       "  array([0., 1., 0., 0., 0.]),\n",
       "  array([0., 1., 0., 0., 0.]),\n",
       "  array([0., 1., 0., 0., 0.]),\n",
       "  array([0., 1., 0., 0., 0.]),\n",
       "  array([0., 1., 0., 0., 0.]),\n",
       "  array([0., 1., 0., 0., 0.]),\n",
       "  array([0., 1., 0., 0., 0.]),\n",
       "  array([0., 1., 0., 0., 0.]),\n",
       "  array([0., 1., 0., 0., 0.]),\n",
       "  array([0., 1., 0., 0., 0.]),\n",
       "  array([0., 1., 0., 0., 0.]),\n",
       "  array([0., 1., 0., 0., 0.]),\n",
       "  array([0., 1., 0., 0., 0.]),\n",
       "  array([0., 1., 0., 0., 0.]),\n",
       "  array([0., 1., 0., 0., 0.]),\n",
       "  array([0., 1., 0., 0., 0.]),\n",
       "  array([0., 1., 0., 0., 0.]),\n",
       "  array([0., 1., 0., 0., 0.]),\n",
       "  array([0., 1., 0., 0., 0.]),\n",
       "  array([0., 1., 0., 0., 0.]),\n",
       "  array([0., 1., 0., 0., 0.]),\n",
       "  array([0., 1., 0., 0., 0.]),\n",
       "  array([0., 1., 0., 0., 0.]),\n",
       "  array([0., 1., 0., 0., 0.]),\n",
       "  array([0., 0., 1., 0., 0.]),\n",
       "  array([0., 0., 1., 0., 0.]),\n",
       "  array([0., 0., 1., 0., 0.]),\n",
       "  array([0., 0., 1., 0., 0.]),\n",
       "  array([0., 0., 1., 0., 0.]),\n",
       "  array([0., 0., 1., 0., 0.]),\n",
       "  array([0., 0., 1., 0., 0.]),\n",
       "  array([0., 0., 1., 0., 0.]),\n",
       "  array([0., 0., 1., 0., 0.]),\n",
       "  array([0., 0., 1., 0., 0.]),\n",
       "  array([0., 0., 1., 0., 0.]),\n",
       "  array([0., 0., 1., 0., 0.]),\n",
       "  array([0., 0., 1., 0., 0.]),\n",
       "  array([0., 0., 1., 0., 0.]),\n",
       "  array([0., 0., 1., 0., 0.]),\n",
       "  array([0., 0., 1., 0., 0.]),\n",
       "  array([0., 0., 1., 0., 0.]),\n",
       "  array([0., 0., 1., 0., 0.]),\n",
       "  array([0., 0., 1., 0., 0.]),\n",
       "  array([0., 0., 1., 0., 0.]),\n",
       "  array([0., 0., 1., 0., 0.]),\n",
       "  array([0., 0., 1., 0., 0.]),\n",
       "  array([0., 0., 1., 0., 0.]),\n",
       "  array([0., 0., 1., 0., 0.]),\n",
       "  array([0., 0., 1., 0., 0.]),\n",
       "  array([0., 0., 1., 0., 0.]),\n",
       "  array([0., 0., 1., 0., 0.]),\n",
       "  array([0., 0., 1., 0., 0.]),\n",
       "  array([0., 0., 1., 0., 0.]),\n",
       "  array([0., 0., 1., 0., 0.]),\n",
       "  array([0., 0., 1., 0., 0.]),\n",
       "  array([0., 0., 0., 1., 0.]),\n",
       "  array([0., 0., 0., 1., 0.]),\n",
       "  array([0., 0., 0., 1., 0.]),\n",
       "  array([0., 0., 0., 1., 0.]),\n",
       "  array([0., 0., 0., 1., 0.]),\n",
       "  array([0., 0., 0., 1., 0.]),\n",
       "  array([0., 0., 0., 1., 0.]),\n",
       "  array([0., 0., 0., 1., 0.]),\n",
       "  array([0., 0., 0., 1., 0.]),\n",
       "  array([0., 0., 0., 1., 0.]),\n",
       "  array([0., 0., 0., 1., 0.]),\n",
       "  array([0., 0., 0., 1., 0.]),\n",
       "  array([0., 0., 0., 1., 0.]),\n",
       "  array([0., 0., 0., 1., 0.]),\n",
       "  array([0., 0., 0., 1., 0.]),\n",
       "  array([0., 0., 0., 1., 0.]),\n",
       "  array([0., 0., 0., 1., 0.]),\n",
       "  array([0., 0., 0., 1., 0.]),\n",
       "  array([0., 0., 0., 1., 0.]),\n",
       "  array([0., 0., 0., 1., 0.]),\n",
       "  array([0., 0., 0., 1., 0.]),\n",
       "  array([0., 1., 0., 0., 0.]),\n",
       "  array([0., 0., 0., 1., 0.]),\n",
       "  array([0., 0., 0., 1., 0.]),\n",
       "  array([0., 0., 0., 1., 0.]),\n",
       "  array([0., 0., 0., 1., 0.]),\n",
       "  array([0., 0., 0., 1., 0.]),\n",
       "  array([0., 0., 0., 1., 0.]),\n",
       "  array([0., 0., 0., 1., 0.]),\n",
       "  array([0., 0., 0., 1., 0.]),\n",
       "  array([0., 0., 0., 1., 0.]),\n",
       "  array([0., 0., 0., 1., 0.]),\n",
       "  array([0., 0., 0., 0., 1.]),\n",
       "  array([0., 0., 0., 0., 1.]),\n",
       "  array([0., 0., 0., 0., 1.]),\n",
       "  array([0., 0., 0., 0., 1.]),\n",
       "  array([0., 0., 0., 0., 1.]),\n",
       "  array([0., 0., 0., 0., 1.]),\n",
       "  array([0., 0., 0., 0., 1.]),\n",
       "  array([0., 0., 0., 0., 1.]),\n",
       "  array([0., 0., 0., 0., 1.]),\n",
       "  array([0., 0., 0., 0., 1.]),\n",
       "  array([0., 0., 0., 0., 1.]),\n",
       "  array([0., 0., 0., 0., 1.]),\n",
       "  array([0., 0., 0., 0., 1.]),\n",
       "  array([0., 0., 0., 0., 1.]),\n",
       "  array([0., 0., 0., 0., 1.]),\n",
       "  array([0., 0., 0., 0., 1.]),\n",
       "  array([0., 0., 0., 0., 1.]),\n",
       "  array([0., 0., 0., 0., 1.]),\n",
       "  array([0., 0., 0., 0., 1.]),\n",
       "  array([0., 0., 0., 0., 1.]),\n",
       "  array([0., 0., 0., 0., 1.]),\n",
       "  array([0., 0., 0., 0., 1.]),\n",
       "  array([0., 0., 0., 0., 1.]),\n",
       "  array([0., 0., 0., 0., 1.]),\n",
       "  array([0., 0., 0., 0., 1.]),\n",
       "  array([0., 0., 0., 0., 1.]),\n",
       "  array([0., 0., 0., 0., 1.]),\n",
       "  array([0., 0., 0., 0., 1.]),\n",
       "  array([0., 0., 0., 0., 1.]),\n",
       "  array([0., 0., 0., 0., 1.]),\n",
       "  array([0., 0., 0., 0., 1.]),\n",
       "  array([0., 0., 0., 0., 1.])],\n",
       " array([  0.,  31.,  62.,  93., 124., 155.]),\n",
       " <a list of 157 Lists of Patches objects>)"
      ]
     },
     "execution_count": 13,
     "metadata": {},
     "output_type": "execute_result"
    },
    {
     "data": {
      "image/png": "[encoded data removed]",
      "text/plain": [
       "<Figure size 432x288 with 1 Axes>"
      ]
     },
     "metadata": {
      "needs_background": "light"
     },
     "output_type": "display_data"
    }
   ],
   "source": [
    "#histogram of continous numerical value\n",
    "num_bins=5\n",
    "plt.hist(cars['Model'],num_bins)"
   ]
  },
  {
   "cell_type": "code",
   "execution_count": 14,
   "metadata": {},
   "outputs": [
    {
     "ename": "TypeError",
     "evalue": "unsupported operand type(s) for /: 'str' and 'int'",
     "output_type": "error",
     "traceback": [
      "\u001b[1;31m---------------------------------------------------------------------------\u001b[0m",
      "\u001b[1;31mTypeError\u001b[0m                                 Traceback (most recent call last)",
      "\u001b[1;32m<ipython-input-14-7eb926cae85e>\u001b[0m in \u001b[0;36m<module>\u001b[1;34m\u001b[0m\n\u001b[0;32m      1\u001b[0m \u001b[1;31m#probablity density function\u001b[0m\u001b[1;33m\u001b[0m\u001b[1;33m\u001b[0m\u001b[1;33m\u001b[0m\u001b[0m\n\u001b[1;32m----> 2\u001b[1;33m \u001b[0msns\u001b[0m\u001b[1;33m.\u001b[0m\u001b[0mdistplot\u001b[0m\u001b[1;33m(\u001b[0m\u001b[0mcars\u001b[0m\u001b[1;33m[\u001b[0m\u001b[1;34m'Model'\u001b[0m\u001b[1;33m]\u001b[0m\u001b[1;33m,\u001b[0m\u001b[0mbins\u001b[0m\u001b[1;33m=\u001b[0m\u001b[1;36m5\u001b[0m\u001b[1;33m)\u001b[0m\u001b[1;33m\u001b[0m\u001b[1;33m\u001b[0m\u001b[0m\n\u001b[0m",
      "\u001b[1;32mG:\\anaconda\\lib\\site-packages\\seaborn\\distributions.py\u001b[0m in \u001b[0;36mdistplot\u001b[1;34m(a, bins, hist, kde, rug, fit, hist_kws, kde_kws, rug_kws, fit_kws, color, vertical, norm_hist, axlabel, label, ax)\u001b[0m\n\u001b[0;32m    196\u001b[0m             \u001b[0mline\u001b[0m\u001b[1;33m,\u001b[0m \u001b[1;33m=\u001b[0m \u001b[0max\u001b[0m\u001b[1;33m.\u001b[0m\u001b[0mplot\u001b[0m\u001b[1;33m(\u001b[0m\u001b[1;36m0\u001b[0m\u001b[1;33m,\u001b[0m \u001b[0ma\u001b[0m\u001b[1;33m.\u001b[0m\u001b[0mmean\u001b[0m\u001b[1;33m(\u001b[0m\u001b[1;33m)\u001b[0m\u001b[1;33m)\u001b[0m\u001b[1;33m\u001b[0m\u001b[1;33m\u001b[0m\u001b[0m\n\u001b[0;32m    197\u001b[0m         \u001b[1;32melse\u001b[0m\u001b[1;33m:\u001b[0m\u001b[1;33m\u001b[0m\u001b[1;33m\u001b[0m\u001b[0m\n\u001b[1;32m--> 198\u001b[1;33m             \u001b[0mline\u001b[0m\u001b[1;33m,\u001b[0m \u001b[1;33m=\u001b[0m \u001b[0max\u001b[0m\u001b[1;33m.\u001b[0m\u001b[0mplot\u001b[0m\u001b[1;33m(\u001b[0m\u001b[0ma\u001b[0m\u001b[1;33m.\u001b[0m\u001b[0mmean\u001b[0m\u001b[1;33m(\u001b[0m\u001b[1;33m)\u001b[0m\u001b[1;33m,\u001b[0m \u001b[1;36m0\u001b[0m\u001b[1;33m)\u001b[0m\u001b[1;33m\u001b[0m\u001b[1;33m\u001b[0m\u001b[0m\n\u001b[0m\u001b[0;32m    199\u001b[0m         \u001b[0mcolor\u001b[0m \u001b[1;33m=\u001b[0m \u001b[0mline\u001b[0m\u001b[1;33m.\u001b[0m\u001b[0mget_color\u001b[0m\u001b[1;33m(\u001b[0m\u001b[1;33m)\u001b[0m\u001b[1;33m\u001b[0m\u001b[1;33m\u001b[0m\u001b[0m\n\u001b[0;32m    200\u001b[0m         \u001b[0mline\u001b[0m\u001b[1;33m.\u001b[0m\u001b[0mremove\u001b[0m\u001b[1;33m(\u001b[0m\u001b[1;33m)\u001b[0m\u001b[1;33m\u001b[0m\u001b[1;33m\u001b[0m\u001b[0m\n",
      "\u001b[1;32mG:\\anaconda\\lib\\site-packages\\numpy\\core\\_methods.py\u001b[0m in \u001b[0;36m_mean\u001b[1;34m(a, axis, dtype, out, keepdims)\u001b[0m\n\u001b[0;32m     85\u001b[0m             \u001b[0mret\u001b[0m \u001b[1;33m=\u001b[0m \u001b[0mret\u001b[0m\u001b[1;33m.\u001b[0m\u001b[0mdtype\u001b[0m\u001b[1;33m.\u001b[0m\u001b[0mtype\u001b[0m\u001b[1;33m(\u001b[0m\u001b[0mret\u001b[0m \u001b[1;33m/\u001b[0m \u001b[0mrcount\u001b[0m\u001b[1;33m)\u001b[0m\u001b[1;33m\u001b[0m\u001b[1;33m\u001b[0m\u001b[0m\n\u001b[0;32m     86\u001b[0m     \u001b[1;32melse\u001b[0m\u001b[1;33m:\u001b[0m\u001b[1;33m\u001b[0m\u001b[1;33m\u001b[0m\u001b[0m\n\u001b[1;32m---> 87\u001b[1;33m         \u001b[0mret\u001b[0m \u001b[1;33m=\u001b[0m \u001b[0mret\u001b[0m \u001b[1;33m/\u001b[0m \u001b[0mrcount\u001b[0m\u001b[1;33m\u001b[0m\u001b[1;33m\u001b[0m\u001b[0m\n\u001b[0m\u001b[0;32m     88\u001b[0m \u001b[1;33m\u001b[0m\u001b[0m\n\u001b[0;32m     89\u001b[0m     \u001b[1;32mreturn\u001b[0m \u001b[0mret\u001b[0m\u001b[1;33m\u001b[0m\u001b[1;33m\u001b[0m\u001b[0m\n",
      "\u001b[1;31mTypeError\u001b[0m: unsupported operand type(s) for /: 'str' and 'int'"
     ]
    },
    {
     "data": {
      "image/png": "[encoded data removed]",
      "text/plain": [
       "<Figure size 432x288 with 1 Axes>"
      ]
     },
     "metadata": {
      "needs_background": "light"
     },
     "output_type": "display_data"
    }
   ],
   "source": [
    "#probablity density function\n",
    "sns.distplot(cars['Model'],bins=5)"
   ]
  },
  {
   "cell_type": "code",
   "execution_count": 15,
   "metadata": {},
   "outputs": [],
   "source": [
    "#count by category\n",
    "make_dist=cars.groupby('Manufacturer').size()"
   ]
  },
  {
   "cell_type": "code",
   "execution_count": 16,
   "metadata": {},
   "outputs": [
    {
     "data": {
      "text/plain": [
       "Manufacturer\n",
       "Acura             4\n",
       "Audi              3\n",
       "BMW               3\n",
       "Buick             4\n",
       "Cadillac          5\n",
       "Chevrolet         9\n",
       "Chrysler          7\n",
       "Dodge            11\n",
       "Ford             11\n",
       "Honda             5\n",
       "Hyundai           3\n",
       "Infiniti          1\n",
       "Jaguar            1\n",
       "Jeep              3\n",
       "Lexus             6\n",
       "Lincoln           3\n",
       "Mercedes-Benz     9\n",
       "Mercury           6\n",
       "Mitsubishi        7\n",
       "Nissan            7\n",
       "Oldsmobile        6\n",
       "Plymouth          4\n",
       "Pontiac           6\n",
       "Porsche           3\n",
       "Saab              2\n",
       "Saturn            5\n",
       "Subaru            2\n",
       "Toyota            9\n",
       "Volkswagen        6\n",
       "Volvo             6\n",
       "dtype: int64"
      ]
     },
     "execution_count": 16,
     "metadata": {},
     "output_type": "execute_result"
    }
   ],
   "source": [
    "make_dist"
   ]
  },
  {
   "cell_type": "code",
   "execution_count": 17,
   "metadata": {},
   "outputs": [
    {
     "data": {
      "text/plain": [
       "<matplotlib.axes._subplots.AxesSubplot at 0x1fe9c319d30>"
      ]
     },
     "execution_count": 17,
     "metadata": {},
     "output_type": "execute_result"
    },
    {
     "data": {
      "image/png": "[encoded data removed]",
      "text/plain": [
       "<Figure size 432x288 with 1 Axes>"
      ]
     },
     "metadata": {
      "needs_background": "light"
     },
     "output_type": "display_data"
    }
   ],
   "source": [
    "#distibution of actegorical variable\n",
    "make_dist.plot(title='Manufacturer Distibution')"
   ]
  },
  {
   "cell_type": "code",
   "execution_count": 18,
   "metadata": {},
   "outputs": [
    {
     "data": {
      "text/html": [
       "<div>\n",
       "<style scoped>\n",
       "    .dataframe tbody tr th:only-of-type {\n",
       "        vertical-align: middle;\n",
       "    }\n",
       "\n",
       "    .dataframe tbody tr th {\n",
       "        vertical-align: top;\n",
       "    }\n",
       "\n",
       "    .dataframe thead th {\n",
       "        text-align: right;\n",
       "    }\n",
       "</style>\n",
       "<table border=\"1\" class=\"dataframe\">\n",
       "  <thead>\n",
       "    <tr style=\"text-align: right;\">\n",
       "      <th></th>\n",
       "      <th>Sales in thousands</th>\n",
       "    </tr>\n",
       "  </thead>\n",
       "  <tbody>\n",
       "    <tr>\n",
       "      <th>0</th>\n",
       "      <td>16.919</td>\n",
       "    </tr>\n",
       "    <tr>\n",
       "      <th>1</th>\n",
       "      <td>39.384</td>\n",
       "    </tr>\n",
       "    <tr>\n",
       "      <th>2</th>\n",
       "      <td>14.114</td>\n",
       "    </tr>\n",
       "    <tr>\n",
       "      <th>3</th>\n",
       "      <td>8.588</td>\n",
       "    </tr>\n",
       "    <tr>\n",
       "      <th>4</th>\n",
       "      <td>20.397</td>\n",
       "    </tr>\n",
       "  </tbody>\n",
       "</table>\n",
       "</div>"
      ],
      "text/plain": [
       "   Sales in thousands\n",
       "0              16.919\n",
       "1              39.384\n",
       "2              14.114\n",
       "3               8.588\n",
       "4              20.397"
      ]
     },
     "execution_count": 18,
     "metadata": {},
     "output_type": "execute_result"
    }
   ],
   "source": [
    "#select all numercial variable\n",
    "cars_num= cars.select_dtypes(include=['float64','int64'])\n",
    "cars_num.head()"
   ]
  },
  {
   "cell_type": "code",
   "execution_count": 19,
   "metadata": {},
   "outputs": [
    {
     "data": {
      "text/plain": [
       "array([[<matplotlib.axes._subplots.AxesSubplot object at 0x000001FE9C3673C8>]],\n",
       "      dtype=object)"
      ]
     },
     "execution_count": 19,
     "metadata": {},
     "output_type": "execute_result"
    },
    {
     "data": {
      "image/png": "[encoded data removed]",
      "text/plain": [
       "<Figure size 432x288 with 1 Axes>"
      ]
     },
     "metadata": {
      "needs_background": "light"
     },
     "output_type": "display_data"
    }
   ],
   "source": [
    "cars_num.hist(bins=5)"
   ]
  },
  {
   "cell_type": "code",
   "execution_count": 20,
   "metadata": {},
   "outputs": [],
   "source": [
    "#coorelation with the variable\n",
    "cars_corr = cars_num.corr()['Sales in thousands'][:-1]"
   ]
  },
  {
   "cell_type": "code",
   "execution_count": 21,
   "metadata": {},
   "outputs": [
    {
     "data": {
      "text/plain": [
       "Series([], Name: Sales in thousands, dtype: float64)"
      ]
     },
     "execution_count": 21,
     "metadata": {},
     "output_type": "execute_result"
    }
   ],
   "source": [
    "cars_corr"
   ]
  },
  {
   "cell_type": "code",
   "execution_count": 22,
   "metadata": {},
   "outputs": [
    {
     "data": {
      "image/png": "[encoded data removed]",
      "text/plain": [
       "<Figure size 180x180 with 2 Axes>"
      ]
     },
     "metadata": {
      "needs_background": "light"
     },
     "output_type": "display_data"
    }
   ],
   "source": [
    "# coorelation plot\n",
    "for i in range(0,len(cars_num.columns),5):\n",
    "    sns.pairplot(cars_num,y_vars=['Sales in thousands'],x_vars=cars_num.columns[i:i+5])"
   ]
  },
  {
   "cell_type": "code",
   "execution_count": 23,
   "metadata": {},
   "outputs": [
    {
     "name": "stderr",
     "output_type": "stream",
     "text": [
      "G:\\anaconda\\lib\\site-packages\\matplotlib\\artist.py:913: UserWarning: Attempting to set identical bottom==top results\n",
      "in singular transformations; automatically expanding.\n",
      "bottom=0, top=0\n",
      "  return func(v)\n",
      "G:\\anaconda\\lib\\site-packages\\matplotlib\\artist.py:913: UserWarning: Attempting to set identical left==right results\n",
      "in singular transformations; automatically expanding.\n",
      "left=0, right=0\n",
      "  return func(v)\n"
     ]
    },
    {
     "data": {
      "image/png": "[encoded data removed]",
      "text/plain": [
       "<Figure size 432x288 with 2 Axes>"
      ]
     },
     "metadata": {
      "needs_background": "light"
     },
     "output_type": "display_data"
    }
   ],
   "source": [
    "#plotting significant coorrelation\n",
    "corr=cars_num.drop('Sales in thousands',axis=1).corr()\n",
    "sns.heatmap(corr[(corr>=0.5)|(corr<=-0.4)],\n",
    "            cmap='viridis',vmax=1.0,vmin=-1.0,linewidths=0.1,\n",
    "            annot=True, annot_kws={\"size\":2}, square=True);"
   ]
  },
  {
   "cell_type": "code",
   "execution_count": 24,
   "metadata": {},
   "outputs": [
    {
     "data": {
      "image/png": "[encoded data removed]",
      "text/plain": [
       "<Figure size 432x288 with 1 Axes>"
      ]
     },
     "metadata": {
      "needs_background": "light"
     },
     "output_type": "display_data"
    }
   ],
   "source": [
    "#bpx plot\n",
    "box1 = sns.boxplot(x='Model',y='Sales in thousands',data = cars)"
   ]
  },
  {
   "cell_type": "code",
   "execution_count": 25,
   "metadata": {},
   "outputs": [
    {
     "ename": "TypeError",
     "evalue": "Could not convert Integra          TL               CL               RL               A4               A6               A8               323i             328i             528i             Century          Regal            Park Avenue      LeSabre          DeVille          Seville          Eldorado         Catera           Escalade         Cavalier         Malibu           Lumina           Monte Carlo      Camaro           Corvette         Prizm            Metro            Impala           Sebring Coupe    Sebring Conv.    Concorde         Cirrus           LHS              Town & Country   300M             Neon             Avenger          Stratus          Intrepid         Viper            Ram Pickup       Ram Wagon        Ram Van          Dakota           Durango          Caravan          Escort           Mustang          Contour          Taurus           Focus            Crown Victoria   Explorer         Windstar         Expedition       Ranger           F-Series         Civic            Accord           CR-V             Passport         Odyssey          Accent           Elantra          Sonata           I30              S-Type           Wrangler         Cherokee         Grand Cherokee   ES300            GS300            GS400            LS400            LX470            RX300            Continental      Town car         Navigator        Mirage           Eclipse          Galant           Diamante         3000GT           Montero          Montero Sport    Mystique         Cougar           Sable            Grand Marquis    Mountaineer      Villager         C-Class          E-Class          S-Class          SL-Class         SLK              SLK230           CLK Coupe        CL500            M-Class          Sentra           Altima           Maxima           Quest            Pathfinder       Xterra           Frontier         Cutlass          Intrigue         Alero            Aurora           Bravada          Silhouette       Neon             Breeze           Voyager          Prowler          Sunfire          Grand Am         Firebird         Grand Prix       Bonneville       Montana          Boxter           Carrera Coupe    Carrera Cabriolet5-Sep3-SepSL               SC               SW               LW               LS               Outback          Forester         Corolla          Camry            Avalon           Celica           Tacoma           Sienna           RAV4             4Runner          Land Cruiser     Golf             Jetta            Passat           Cabrio           GTI              Beetle           S40              V40              S70              V70              C70              S80               to numeric",
     "output_type": "error",
     "traceback": [
      "\u001b[1;31m---------------------------------------------------------------------------\u001b[0m",
      "\u001b[1;31mValueError\u001b[0m                                Traceback (most recent call last)",
      "\u001b[1;32mG:\\anaconda\\lib\\site-packages\\pandas\\core\\nanops.py\u001b[0m in \u001b[0;36m_ensure_numeric\u001b[1;34m(x)\u001b[0m\n\u001b[0;32m    821\u001b[0m         \u001b[1;32mtry\u001b[0m\u001b[1;33m:\u001b[0m\u001b[1;33m\u001b[0m\u001b[1;33m\u001b[0m\u001b[0m\n\u001b[1;32m--> 822\u001b[1;33m             \u001b[0mx\u001b[0m \u001b[1;33m=\u001b[0m \u001b[0mfloat\u001b[0m\u001b[1;33m(\u001b[0m\u001b[0mx\u001b[0m\u001b[1;33m)\u001b[0m\u001b[1;33m\u001b[0m\u001b[1;33m\u001b[0m\u001b[0m\n\u001b[0m\u001b[0;32m    823\u001b[0m         \u001b[1;32mexcept\u001b[0m \u001b[0mException\u001b[0m\u001b[1;33m:\u001b[0m\u001b[1;33m\u001b[0m\u001b[1;33m\u001b[0m\u001b[0m\n",
      "\u001b[1;31mValueError\u001b[0m: could not convert string to float: 'Integra          TL               CL               RL               A4               A6               A8               323i             328i             528i             Century          Regal            Park Avenue      LeSabre          DeVille          Seville          Eldorado         Catera           Escalade         Cavalier         Malibu           Lumina           Monte Carlo      Camaro           Corvette         Prizm            Metro            Impala           Sebring Coupe    Sebring Conv.    Concorde         Cirrus           LHS              Town & Country   300M             Neon             Avenger          Stratus          Intrepid         Viper            Ram Pickup       Ram Wagon        Ram Van          Dakota           Durango          Caravan          Escort           Mustang          Contour          Taurus           Focus            Crown Victoria   Explorer         Windstar         Expedition       Ranger           F-Series         Civic            Accord           CR-V             Passport         Odyssey          Accent           Elantra          Sonata           I30              S-Type           Wrangler         Cherokee         Grand Cherokee   ES300            GS300            GS400            LS400            LX470            RX300            Continental      Town car         Navigator        Mirage           Eclipse          Galant           Diamante         3000GT           Montero          Montero Sport    Mystique         Cougar           Sable            Grand Marquis    Mountaineer      Villager         C-Class          E-Class          S-Class          SL-Class         SLK              SLK230           CLK Coupe        CL500            M-Class          Sentra           Altima           Maxima           Quest            Pathfinder       Xterra           Frontier         Cutlass          Intrigue         Alero            Aurora           Bravada          Silhouette       Neon             Breeze           Voyager          Prowler          Sunfire          Grand Am         Firebird         Grand Prix       Bonneville       Montana          Boxter           Carrera Coupe    Carrera Cabriolet5-Sep3-SepSL               SC               SW               LW               LS               Outback          Forester         Corolla          Camry            Avalon           Celica           Tacoma           Sienna           RAV4             4Runner          Land Cruiser     Golf             Jetta            Passat           Cabrio           GTI              Beetle           S40              V40              S70              V70              C70              S80              '",
      "\nDuring handling of the above exception, another exception occurred:\n",
      "\u001b[1;31mValueError\u001b[0m                                Traceback (most recent call last)",
      "\u001b[1;32mG:\\anaconda\\lib\\site-packages\\pandas\\core\\nanops.py\u001b[0m in \u001b[0;36m_ensure_numeric\u001b[1;34m(x)\u001b[0m\n\u001b[0;32m    824\u001b[0m             \u001b[1;32mtry\u001b[0m\u001b[1;33m:\u001b[0m\u001b[1;33m\u001b[0m\u001b[1;33m\u001b[0m\u001b[0m\n\u001b[1;32m--> 825\u001b[1;33m                 \u001b[0mx\u001b[0m \u001b[1;33m=\u001b[0m \u001b[0mcomplex\u001b[0m\u001b[1;33m(\u001b[0m\u001b[0mx\u001b[0m\u001b[1;33m)\u001b[0m\u001b[1;33m\u001b[0m\u001b[1;33m\u001b[0m\u001b[0m\n\u001b[0m\u001b[0;32m    826\u001b[0m             \u001b[1;32mexcept\u001b[0m \u001b[0mException\u001b[0m\u001b[1;33m:\u001b[0m\u001b[1;33m\u001b[0m\u001b[1;33m\u001b[0m\u001b[0m\n",
      "\u001b[1;31mValueError\u001b[0m: complex() arg is a malformed string",
      "\nDuring handling of the above exception, another exception occurred:\n",
      "\u001b[1;31mTypeError\u001b[0m                                 Traceback (most recent call last)",
      "\u001b[1;32mG:\\anaconda\\lib\\site-packages\\pandas\\core\\nanops.py\u001b[0m in \u001b[0;36mf\u001b[1;34m(values, axis, skipna, **kwds)\u001b[0m\n\u001b[0;32m    127\u001b[0m                 \u001b[1;32melse\u001b[0m\u001b[1;33m:\u001b[0m\u001b[1;33m\u001b[0m\u001b[1;33m\u001b[0m\u001b[0m\n\u001b[1;32m--> 128\u001b[1;33m                     \u001b[0mresult\u001b[0m \u001b[1;33m=\u001b[0m \u001b[0malt\u001b[0m\u001b[1;33m(\u001b[0m\u001b[0mvalues\u001b[0m\u001b[1;33m,\u001b[0m \u001b[0maxis\u001b[0m\u001b[1;33m=\u001b[0m\u001b[0maxis\u001b[0m\u001b[1;33m,\u001b[0m \u001b[0mskipna\u001b[0m\u001b[1;33m=\u001b[0m\u001b[0mskipna\u001b[0m\u001b[1;33m,\u001b[0m \u001b[1;33m**\u001b[0m\u001b[0mkwds\u001b[0m\u001b[1;33m)\u001b[0m\u001b[1;33m\u001b[0m\u001b[1;33m\u001b[0m\u001b[0m\n\u001b[0m\u001b[0;32m    129\u001b[0m             \u001b[1;32mexcept\u001b[0m \u001b[0mException\u001b[0m\u001b[1;33m:\u001b[0m\u001b[1;33m\u001b[0m\u001b[1;33m\u001b[0m\u001b[0m\n",
      "\u001b[1;32mG:\\anaconda\\lib\\site-packages\\pandas\\core\\nanops.py\u001b[0m in \u001b[0;36mnanmean\u001b[1;34m(values, axis, skipna)\u001b[0m\n\u001b[0;32m    354\u001b[0m     \u001b[0mcount\u001b[0m \u001b[1;33m=\u001b[0m \u001b[0m_get_counts\u001b[0m\u001b[1;33m(\u001b[0m\u001b[0mmask\u001b[0m\u001b[1;33m,\u001b[0m \u001b[0maxis\u001b[0m\u001b[1;33m,\u001b[0m \u001b[0mdtype\u001b[0m\u001b[1;33m=\u001b[0m\u001b[0mdtype_count\u001b[0m\u001b[1;33m)\u001b[0m\u001b[1;33m\u001b[0m\u001b[1;33m\u001b[0m\u001b[0m\n\u001b[1;32m--> 355\u001b[1;33m     \u001b[0mthe_sum\u001b[0m \u001b[1;33m=\u001b[0m \u001b[0m_ensure_numeric\u001b[0m\u001b[1;33m(\u001b[0m\u001b[0mvalues\u001b[0m\u001b[1;33m.\u001b[0m\u001b[0msum\u001b[0m\u001b[1;33m(\u001b[0m\u001b[0maxis\u001b[0m\u001b[1;33m,\u001b[0m \u001b[0mdtype\u001b[0m\u001b[1;33m=\u001b[0m\u001b[0mdtype_sum\u001b[0m\u001b[1;33m)\u001b[0m\u001b[1;33m)\u001b[0m\u001b[1;33m\u001b[0m\u001b[1;33m\u001b[0m\u001b[0m\n\u001b[0m\u001b[0;32m    356\u001b[0m \u001b[1;33m\u001b[0m\u001b[0m\n",
      "\u001b[1;32mG:\\anaconda\\lib\\site-packages\\pandas\\core\\nanops.py\u001b[0m in \u001b[0;36m_ensure_numeric\u001b[1;34m(x)\u001b[0m\n\u001b[0;32m    827\u001b[0m                 raise TypeError('Could not convert {value!s} to numeric'\n\u001b[1;32m--> 828\u001b[1;33m                                 .format(value=x))\n\u001b[0m\u001b[0;32m    829\u001b[0m     \u001b[1;32mreturn\u001b[0m \u001b[0mx\u001b[0m\u001b[1;33m\u001b[0m\u001b[1;33m\u001b[0m\u001b[0m\n",
      "\u001b[1;31mTypeError\u001b[0m: Could not convert Integra          TL               CL               RL               A4               A6               A8               323i             328i             528i             Century          Regal            Park Avenue      LeSabre          DeVille          Seville          Eldorado         Catera           Escalade         Cavalier         Malibu           Lumina           Monte Carlo      Camaro           Corvette         Prizm            Metro            Impala           Sebring Coupe    Sebring Conv.    Concorde         Cirrus           LHS              Town & Country   300M             Neon             Avenger          Stratus          Intrepid         Viper            Ram Pickup       Ram Wagon        Ram Van          Dakota           Durango          Caravan          Escort           Mustang          Contour          Taurus           Focus            Crown Victoria   Explorer         Windstar         Expedition       Ranger           F-Series         Civic            Accord           CR-V             Passport         Odyssey          Accent           Elantra          Sonata           I30              S-Type           Wrangler         Cherokee         Grand Cherokee   ES300            GS300            GS400            LS400            LX470            RX300            Continental      Town car         Navigator        Mirage           Eclipse          Galant           Diamante         3000GT           Montero          Montero Sport    Mystique         Cougar           Sable            Grand Marquis    Mountaineer      Villager         C-Class          E-Class          S-Class          SL-Class         SLK              SLK230           CLK Coupe        CL500            M-Class          Sentra           Altima           Maxima           Quest            Pathfinder       Xterra           Frontier         Cutlass          Intrigue         Alero            Aurora           Bravada          Silhouette       Neon             Breeze           Voyager          Prowler          Sunfire          Grand Am         Firebird         Grand Prix       Bonneville       Montana          Boxter           Carrera Coupe    Carrera Cabriolet5-Sep3-SepSL               SC               SW               LW               LS               Outback          Forester         Corolla          Camry            Avalon           Celica           Tacoma           Sienna           RAV4             4Runner          Land Cruiser     Golf             Jetta            Passat           Cabrio           GTI              Beetle           S40              V40              S70              V70              C70              S80               to numeric",
      "\nDuring handling of the above exception, another exception occurred:\n",
      "\u001b[1;31mValueError\u001b[0m                                Traceback (most recent call last)",
      "\u001b[1;32mG:\\anaconda\\lib\\site-packages\\pandas\\core\\nanops.py\u001b[0m in \u001b[0;36m_ensure_numeric\u001b[1;34m(x)\u001b[0m\n\u001b[0;32m    821\u001b[0m         \u001b[1;32mtry\u001b[0m\u001b[1;33m:\u001b[0m\u001b[1;33m\u001b[0m\u001b[1;33m\u001b[0m\u001b[0m\n\u001b[1;32m--> 822\u001b[1;33m             \u001b[0mx\u001b[0m \u001b[1;33m=\u001b[0m \u001b[0mfloat\u001b[0m\u001b[1;33m(\u001b[0m\u001b[0mx\u001b[0m\u001b[1;33m)\u001b[0m\u001b[1;33m\u001b[0m\u001b[1;33m\u001b[0m\u001b[0m\n\u001b[0m\u001b[0;32m    823\u001b[0m         \u001b[1;32mexcept\u001b[0m \u001b[0mException\u001b[0m\u001b[1;33m:\u001b[0m\u001b[1;33m\u001b[0m\u001b[1;33m\u001b[0m\u001b[0m\n",
      "\u001b[1;31mValueError\u001b[0m: could not convert string to float: 'Integra          TL               CL               RL               A4               A6               A8               323i             328i             528i             Century          Regal            Park Avenue      LeSabre          DeVille          Seville          Eldorado         Catera           Escalade         Cavalier         Malibu           Lumina           Monte Carlo      Camaro           Corvette         Prizm            Metro            Impala           Sebring Coupe    Sebring Conv.    Concorde         Cirrus           LHS              Town & Country   300M             Neon             Avenger          Stratus          Intrepid         Viper            Ram Pickup       Ram Wagon        Ram Van          Dakota           Durango          Caravan          Escort           Mustang          Contour          Taurus           Focus            Crown Victoria   Explorer         Windstar         Expedition       Ranger           F-Series         Civic            Accord           CR-V             Passport         Odyssey          Accent           Elantra          Sonata           I30              S-Type           Wrangler         Cherokee         Grand Cherokee   ES300            GS300            GS400            LS400            LX470            RX300            Continental      Town car         Navigator        Mirage           Eclipse          Galant           Diamante         3000GT           Montero          Montero Sport    Mystique         Cougar           Sable            Grand Marquis    Mountaineer      Villager         C-Class          E-Class          S-Class          SL-Class         SLK              SLK230           CLK Coupe        CL500            M-Class          Sentra           Altima           Maxima           Quest            Pathfinder       Xterra           Frontier         Cutlass          Intrigue         Alero            Aurora           Bravada          Silhouette       Neon             Breeze           Voyager          Prowler          Sunfire          Grand Am         Firebird         Grand Prix       Bonneville       Montana          Boxter           Carrera Coupe    Carrera Cabriolet5-Sep3-SepSL               SC               SW               LW               LS               Outback          Forester         Corolla          Camry            Avalon           Celica           Tacoma           Sienna           RAV4             4Runner          Land Cruiser     Golf             Jetta            Passat           Cabrio           GTI              Beetle           S40              V40              S70              V70              C70              S80              '",
      "\nDuring handling of the above exception, another exception occurred:\n",
      "\u001b[1;31mValueError\u001b[0m                                Traceback (most recent call last)",
      "\u001b[1;32mG:\\anaconda\\lib\\site-packages\\pandas\\core\\nanops.py\u001b[0m in \u001b[0;36m_ensure_numeric\u001b[1;34m(x)\u001b[0m\n\u001b[0;32m    824\u001b[0m             \u001b[1;32mtry\u001b[0m\u001b[1;33m:\u001b[0m\u001b[1;33m\u001b[0m\u001b[1;33m\u001b[0m\u001b[0m\n\u001b[1;32m--> 825\u001b[1;33m                 \u001b[0mx\u001b[0m \u001b[1;33m=\u001b[0m \u001b[0mcomplex\u001b[0m\u001b[1;33m(\u001b[0m\u001b[0mx\u001b[0m\u001b[1;33m)\u001b[0m\u001b[1;33m\u001b[0m\u001b[1;33m\u001b[0m\u001b[0m\n\u001b[0m\u001b[0;32m    826\u001b[0m             \u001b[1;32mexcept\u001b[0m \u001b[0mException\u001b[0m\u001b[1;33m:\u001b[0m\u001b[1;33m\u001b[0m\u001b[1;33m\u001b[0m\u001b[0m\n",
      "\u001b[1;31mValueError\u001b[0m: complex() arg is a malformed string",
      "\nDuring handling of the above exception, another exception occurred:\n",
      "\u001b[1;31mTypeError\u001b[0m                                 Traceback (most recent call last)",
      "\u001b[1;32m<ipython-input-25-384287eb6158>\u001b[0m in \u001b[0;36m<module>\u001b[1;34m\u001b[0m\n\u001b[0;32m      1\u001b[0m \u001b[1;31m#regression plot\u001b[0m\u001b[1;33m\u001b[0m\u001b[1;33m\u001b[0m\u001b[1;33m\u001b[0m\u001b[0m\n\u001b[1;32m----> 2\u001b[1;33m \u001b[0msns\u001b[0m\u001b[1;33m.\u001b[0m\u001b[0mregplot\u001b[0m\u001b[1;33m(\u001b[0m\u001b[0mcars\u001b[0m\u001b[1;33m[\u001b[0m\u001b[1;34m\"Model\"\u001b[0m\u001b[1;33m]\u001b[0m\u001b[1;33m,\u001b[0m\u001b[0mcars\u001b[0m\u001b[1;33m[\u001b[0m\u001b[1;34m'Sales in thousands'\u001b[0m\u001b[1;33m]\u001b[0m\u001b[1;33m)\u001b[0m\u001b[1;33m\u001b[0m\u001b[1;33m\u001b[0m\u001b[0m\n\u001b[0m",
      "\u001b[1;32mG:\\anaconda\\lib\\site-packages\\seaborn\\regression.py\u001b[0m in \u001b[0;36mregplot\u001b[1;34m(x, y, data, x_estimator, x_bins, x_ci, scatter, fit_reg, ci, n_boot, units, order, logistic, lowess, robust, logx, x_partial, y_partial, truncate, dropna, x_jitter, y_jitter, label, color, marker, scatter_kws, line_kws, ax)\u001b[0m\n\u001b[0;32m    787\u001b[0m     \u001b[0mscatter_kws\u001b[0m\u001b[1;33m[\u001b[0m\u001b[1;34m\"marker\"\u001b[0m\u001b[1;33m]\u001b[0m \u001b[1;33m=\u001b[0m \u001b[0mmarker\u001b[0m\u001b[1;33m\u001b[0m\u001b[1;33m\u001b[0m\u001b[0m\n\u001b[0;32m    788\u001b[0m     \u001b[0mline_kws\u001b[0m \u001b[1;33m=\u001b[0m \u001b[1;33m{\u001b[0m\u001b[1;33m}\u001b[0m \u001b[1;32mif\u001b[0m \u001b[0mline_kws\u001b[0m \u001b[1;32mis\u001b[0m \u001b[1;32mNone\u001b[0m \u001b[1;32melse\u001b[0m \u001b[0mcopy\u001b[0m\u001b[1;33m.\u001b[0m\u001b[0mcopy\u001b[0m\u001b[1;33m(\u001b[0m\u001b[0mline_kws\u001b[0m\u001b[1;33m)\u001b[0m\u001b[1;33m\u001b[0m\u001b[1;33m\u001b[0m\u001b[0m\n\u001b[1;32m--> 789\u001b[1;33m     \u001b[0mplotter\u001b[0m\u001b[1;33m.\u001b[0m\u001b[0mplot\u001b[0m\u001b[1;33m(\u001b[0m\u001b[0max\u001b[0m\u001b[1;33m,\u001b[0m \u001b[0mscatter_kws\u001b[0m\u001b[1;33m,\u001b[0m \u001b[0mline_kws\u001b[0m\u001b[1;33m)\u001b[0m\u001b[1;33m\u001b[0m\u001b[1;33m\u001b[0m\u001b[0m\n\u001b[0m\u001b[0;32m    790\u001b[0m     \u001b[1;32mreturn\u001b[0m \u001b[0max\u001b[0m\u001b[1;33m\u001b[0m\u001b[1;33m\u001b[0m\u001b[0m\n\u001b[0;32m    791\u001b[0m \u001b[1;33m\u001b[0m\u001b[0m\n",
      "\u001b[1;32mG:\\anaconda\\lib\\site-packages\\seaborn\\regression.py\u001b[0m in \u001b[0;36mplot\u001b[1;34m(self, ax, scatter_kws, line_kws)\u001b[0m\n\u001b[0;32m    325\u001b[0m         \u001b[1;31m# Use the current color cycle state as a default\u001b[0m\u001b[1;33m\u001b[0m\u001b[1;33m\u001b[0m\u001b[1;33m\u001b[0m\u001b[0m\n\u001b[0;32m    326\u001b[0m         \u001b[1;32mif\u001b[0m \u001b[0mself\u001b[0m\u001b[1;33m.\u001b[0m\u001b[0mcolor\u001b[0m \u001b[1;32mis\u001b[0m \u001b[1;32mNone\u001b[0m\u001b[1;33m:\u001b[0m\u001b[1;33m\u001b[0m\u001b[1;33m\u001b[0m\u001b[0m\n\u001b[1;32m--> 327\u001b[1;33m             \u001b[0mlines\u001b[0m\u001b[1;33m,\u001b[0m \u001b[1;33m=\u001b[0m \u001b[0mplt\u001b[0m\u001b[1;33m.\u001b[0m\u001b[0mplot\u001b[0m\u001b[1;33m(\u001b[0m\u001b[0mself\u001b[0m\u001b[1;33m.\u001b[0m\u001b[0mx\u001b[0m\u001b[1;33m.\u001b[0m\u001b[0mmean\u001b[0m\u001b[1;33m(\u001b[0m\u001b[1;33m)\u001b[0m\u001b[1;33m,\u001b[0m \u001b[0mself\u001b[0m\u001b[1;33m.\u001b[0m\u001b[0my\u001b[0m\u001b[1;33m.\u001b[0m\u001b[0mmean\u001b[0m\u001b[1;33m(\u001b[0m\u001b[1;33m)\u001b[0m\u001b[1;33m)\u001b[0m\u001b[1;33m\u001b[0m\u001b[1;33m\u001b[0m\u001b[0m\n\u001b[0m\u001b[0;32m    328\u001b[0m             \u001b[0mcolor\u001b[0m \u001b[1;33m=\u001b[0m \u001b[0mlines\u001b[0m\u001b[1;33m.\u001b[0m\u001b[0mget_color\u001b[0m\u001b[1;33m(\u001b[0m\u001b[1;33m)\u001b[0m\u001b[1;33m\u001b[0m\u001b[1;33m\u001b[0m\u001b[0m\n\u001b[0;32m    329\u001b[0m             \u001b[0mlines\u001b[0m\u001b[1;33m.\u001b[0m\u001b[0mremove\u001b[0m\u001b[1;33m(\u001b[0m\u001b[1;33m)\u001b[0m\u001b[1;33m\u001b[0m\u001b[1;33m\u001b[0m\u001b[0m\n",
      "\u001b[1;32mG:\\anaconda\\lib\\site-packages\\pandas\\core\\generic.py\u001b[0m in \u001b[0;36mstat_func\u001b[1;34m(self, axis, skipna, level, numeric_only, **kwargs)\u001b[0m\n\u001b[0;32m   9611\u001b[0m                                       skipna=skipna)\n\u001b[0;32m   9612\u001b[0m         return self._reduce(f, name, axis=axis, skipna=skipna,\n\u001b[1;32m-> 9613\u001b[1;33m                             numeric_only=numeric_only)\n\u001b[0m\u001b[0;32m   9614\u001b[0m \u001b[1;33m\u001b[0m\u001b[0m\n\u001b[0;32m   9615\u001b[0m     \u001b[1;32mreturn\u001b[0m \u001b[0mset_function_name\u001b[0m\u001b[1;33m(\u001b[0m\u001b[0mstat_func\u001b[0m\u001b[1;33m,\u001b[0m \u001b[0mname\u001b[0m\u001b[1;33m,\u001b[0m \u001b[0mcls\u001b[0m\u001b[1;33m)\u001b[0m\u001b[1;33m\u001b[0m\u001b[1;33m\u001b[0m\u001b[0m\n",
      "\u001b[1;32mG:\\anaconda\\lib\\site-packages\\pandas\\core\\series.py\u001b[0m in \u001b[0;36m_reduce\u001b[1;34m(self, op, name, axis, skipna, numeric_only, filter_type, **kwds)\u001b[0m\n\u001b[0;32m   3219\u001b[0m                                           'numeric_only.'.format(name))\n\u001b[0;32m   3220\u001b[0m             \u001b[1;32mwith\u001b[0m \u001b[0mnp\u001b[0m\u001b[1;33m.\u001b[0m\u001b[0merrstate\u001b[0m\u001b[1;33m(\u001b[0m\u001b[0mall\u001b[0m\u001b[1;33m=\u001b[0m\u001b[1;34m'ignore'\u001b[0m\u001b[1;33m)\u001b[0m\u001b[1;33m:\u001b[0m\u001b[1;33m\u001b[0m\u001b[1;33m\u001b[0m\u001b[0m\n\u001b[1;32m-> 3221\u001b[1;33m                 \u001b[1;32mreturn\u001b[0m \u001b[0mop\u001b[0m\u001b[1;33m(\u001b[0m\u001b[0mdelegate\u001b[0m\u001b[1;33m,\u001b[0m \u001b[0mskipna\u001b[0m\u001b[1;33m=\u001b[0m\u001b[0mskipna\u001b[0m\u001b[1;33m,\u001b[0m \u001b[1;33m**\u001b[0m\u001b[0mkwds\u001b[0m\u001b[1;33m)\u001b[0m\u001b[1;33m\u001b[0m\u001b[1;33m\u001b[0m\u001b[0m\n\u001b[0m\u001b[0;32m   3222\u001b[0m \u001b[1;33m\u001b[0m\u001b[0m\n\u001b[0;32m   3223\u001b[0m         return delegate._reduce(op=op, name=name, axis=axis, skipna=skipna,\n",
      "\u001b[1;32mG:\\anaconda\\lib\\site-packages\\pandas\\core\\nanops.py\u001b[0m in \u001b[0;36m_f\u001b[1;34m(*args, **kwargs)\u001b[0m\n\u001b[0;32m     75\u001b[0m             \u001b[1;32mtry\u001b[0m\u001b[1;33m:\u001b[0m\u001b[1;33m\u001b[0m\u001b[1;33m\u001b[0m\u001b[0m\n\u001b[0;32m     76\u001b[0m                 \u001b[1;32mwith\u001b[0m \u001b[0mnp\u001b[0m\u001b[1;33m.\u001b[0m\u001b[0merrstate\u001b[0m\u001b[1;33m(\u001b[0m\u001b[0minvalid\u001b[0m\u001b[1;33m=\u001b[0m\u001b[1;34m'ignore'\u001b[0m\u001b[1;33m)\u001b[0m\u001b[1;33m:\u001b[0m\u001b[1;33m\u001b[0m\u001b[1;33m\u001b[0m\u001b[0m\n\u001b[1;32m---> 77\u001b[1;33m                     \u001b[1;32mreturn\u001b[0m \u001b[0mf\u001b[0m\u001b[1;33m(\u001b[0m\u001b[1;33m*\u001b[0m\u001b[0margs\u001b[0m\u001b[1;33m,\u001b[0m \u001b[1;33m**\u001b[0m\u001b[0mkwargs\u001b[0m\u001b[1;33m)\u001b[0m\u001b[1;33m\u001b[0m\u001b[1;33m\u001b[0m\u001b[0m\n\u001b[0m\u001b[0;32m     78\u001b[0m             \u001b[1;32mexcept\u001b[0m \u001b[0mValueError\u001b[0m \u001b[1;32mas\u001b[0m \u001b[0me\u001b[0m\u001b[1;33m:\u001b[0m\u001b[1;33m\u001b[0m\u001b[1;33m\u001b[0m\u001b[0m\n\u001b[0;32m     79\u001b[0m                 \u001b[1;31m# we want to transform an object array\u001b[0m\u001b[1;33m\u001b[0m\u001b[1;33m\u001b[0m\u001b[1;33m\u001b[0m\u001b[0m\n",
      "\u001b[1;32mG:\\anaconda\\lib\\site-packages\\pandas\\core\\nanops.py\u001b[0m in \u001b[0;36mf\u001b[1;34m(values, axis, skipna, **kwds)\u001b[0m\n\u001b[0;32m    129\u001b[0m             \u001b[1;32mexcept\u001b[0m \u001b[0mException\u001b[0m\u001b[1;33m:\u001b[0m\u001b[1;33m\u001b[0m\u001b[1;33m\u001b[0m\u001b[0m\n\u001b[0;32m    130\u001b[0m                 \u001b[1;32mtry\u001b[0m\u001b[1;33m:\u001b[0m\u001b[1;33m\u001b[0m\u001b[1;33m\u001b[0m\u001b[0m\n\u001b[1;32m--> 131\u001b[1;33m                     \u001b[0mresult\u001b[0m \u001b[1;33m=\u001b[0m \u001b[0malt\u001b[0m\u001b[1;33m(\u001b[0m\u001b[0mvalues\u001b[0m\u001b[1;33m,\u001b[0m \u001b[0maxis\u001b[0m\u001b[1;33m=\u001b[0m\u001b[0maxis\u001b[0m\u001b[1;33m,\u001b[0m \u001b[0mskipna\u001b[0m\u001b[1;33m=\u001b[0m\u001b[0mskipna\u001b[0m\u001b[1;33m,\u001b[0m \u001b[1;33m**\u001b[0m\u001b[0mkwds\u001b[0m\u001b[1;33m)\u001b[0m\u001b[1;33m\u001b[0m\u001b[1;33m\u001b[0m\u001b[0m\n\u001b[0m\u001b[0;32m    132\u001b[0m                 \u001b[1;32mexcept\u001b[0m \u001b[0mValueError\u001b[0m \u001b[1;32mas\u001b[0m \u001b[0me\u001b[0m\u001b[1;33m:\u001b[0m\u001b[1;33m\u001b[0m\u001b[1;33m\u001b[0m\u001b[0m\n\u001b[0;32m    133\u001b[0m                     \u001b[1;31m# we want to transform an object array\u001b[0m\u001b[1;33m\u001b[0m\u001b[1;33m\u001b[0m\u001b[1;33m\u001b[0m\u001b[0m\n",
      "\u001b[1;32mG:\\anaconda\\lib\\site-packages\\pandas\\core\\nanops.py\u001b[0m in \u001b[0;36mnanmean\u001b[1;34m(values, axis, skipna)\u001b[0m\n\u001b[0;32m    353\u001b[0m         \u001b[0mdtype_count\u001b[0m \u001b[1;33m=\u001b[0m \u001b[0mdtype\u001b[0m\u001b[1;33m\u001b[0m\u001b[1;33m\u001b[0m\u001b[0m\n\u001b[0;32m    354\u001b[0m     \u001b[0mcount\u001b[0m \u001b[1;33m=\u001b[0m \u001b[0m_get_counts\u001b[0m\u001b[1;33m(\u001b[0m\u001b[0mmask\u001b[0m\u001b[1;33m,\u001b[0m \u001b[0maxis\u001b[0m\u001b[1;33m,\u001b[0m \u001b[0mdtype\u001b[0m\u001b[1;33m=\u001b[0m\u001b[0mdtype_count\u001b[0m\u001b[1;33m)\u001b[0m\u001b[1;33m\u001b[0m\u001b[1;33m\u001b[0m\u001b[0m\n\u001b[1;32m--> 355\u001b[1;33m     \u001b[0mthe_sum\u001b[0m \u001b[1;33m=\u001b[0m \u001b[0m_ensure_numeric\u001b[0m\u001b[1;33m(\u001b[0m\u001b[0mvalues\u001b[0m\u001b[1;33m.\u001b[0m\u001b[0msum\u001b[0m\u001b[1;33m(\u001b[0m\u001b[0maxis\u001b[0m\u001b[1;33m,\u001b[0m \u001b[0mdtype\u001b[0m\u001b[1;33m=\u001b[0m\u001b[0mdtype_sum\u001b[0m\u001b[1;33m)\u001b[0m\u001b[1;33m)\u001b[0m\u001b[1;33m\u001b[0m\u001b[1;33m\u001b[0m\u001b[0m\n\u001b[0m\u001b[0;32m    356\u001b[0m \u001b[1;33m\u001b[0m\u001b[0m\n\u001b[0;32m    357\u001b[0m     \u001b[1;32mif\u001b[0m \u001b[0maxis\u001b[0m \u001b[1;32mis\u001b[0m \u001b[1;32mnot\u001b[0m \u001b[1;32mNone\u001b[0m \u001b[1;32mand\u001b[0m \u001b[0mgetattr\u001b[0m\u001b[1;33m(\u001b[0m\u001b[0mthe_sum\u001b[0m\u001b[1;33m,\u001b[0m \u001b[1;34m'ndim'\u001b[0m\u001b[1;33m,\u001b[0m \u001b[1;32mFalse\u001b[0m\u001b[1;33m)\u001b[0m\u001b[1;33m:\u001b[0m\u001b[1;33m\u001b[0m\u001b[1;33m\u001b[0m\u001b[0m\n",
      "\u001b[1;32mG:\\anaconda\\lib\\site-packages\\pandas\\core\\nanops.py\u001b[0m in \u001b[0;36m_ensure_numeric\u001b[1;34m(x)\u001b[0m\n\u001b[0;32m    826\u001b[0m             \u001b[1;32mexcept\u001b[0m \u001b[0mException\u001b[0m\u001b[1;33m:\u001b[0m\u001b[1;33m\u001b[0m\u001b[1;33m\u001b[0m\u001b[0m\n\u001b[0;32m    827\u001b[0m                 raise TypeError('Could not convert {value!s} to numeric'\n\u001b[1;32m--> 828\u001b[1;33m                                 .format(value=x))\n\u001b[0m\u001b[0;32m    829\u001b[0m     \u001b[1;32mreturn\u001b[0m \u001b[0mx\u001b[0m\u001b[1;33m\u001b[0m\u001b[1;33m\u001b[0m\u001b[0m\n\u001b[0;32m    830\u001b[0m \u001b[1;33m\u001b[0m\u001b[0m\n",
      "\u001b[1;31mTypeError\u001b[0m: Could not convert Integra          TL               CL               RL               A4               A6               A8               323i             328i             528i             Century          Regal            Park Avenue      LeSabre          DeVille          Seville          Eldorado         Catera           Escalade         Cavalier         Malibu           Lumina           Monte Carlo      Camaro           Corvette         Prizm            Metro            Impala           Sebring Coupe    Sebring Conv.    Concorde         Cirrus           LHS              Town & Country   300M             Neon             Avenger          Stratus          Intrepid         Viper            Ram Pickup       Ram Wagon        Ram Van          Dakota           Durango          Caravan          Escort           Mustang          Contour          Taurus           Focus            Crown Victoria   Explorer         Windstar         Expedition       Ranger           F-Series         Civic            Accord           CR-V             Passport         Odyssey          Accent           Elantra          Sonata           I30              S-Type           Wrangler         Cherokee         Grand Cherokee   ES300            GS300            GS400            LS400            LX470            RX300            Continental      Town car         Navigator        Mirage           Eclipse          Galant           Diamante         3000GT           Montero          Montero Sport    Mystique         Cougar           Sable            Grand Marquis    Mountaineer      Villager         C-Class          E-Class          S-Class          SL-Class         SLK              SLK230           CLK Coupe        CL500            M-Class          Sentra           Altima           Maxima           Quest            Pathfinder       Xterra           Frontier         Cutlass          Intrigue         Alero            Aurora           Bravada          Silhouette       Neon             Breeze           Voyager          Prowler          Sunfire          Grand Am         Firebird         Grand Prix       Bonneville       Montana          Boxter           Carrera Coupe    Carrera Cabriolet5-Sep3-SepSL               SC               SW               LW               LS               Outback          Forester         Corolla          Camry            Avalon           Celica           Tacoma           Sienna           RAV4             4Runner          Land Cruiser     Golf             Jetta            Passat           Cabrio           GTI              Beetle           S40              V40              S70              V70              C70              S80               to numeric"
     ]
    },
    {
     "data": {
      "image/png": "[encoded data removed]",
      "text/plain": [
       "<Figure size 432x288 with 1 Axes>"
      ]
     },
     "metadata": {
      "needs_background": "light"
     },
     "output_type": "display_data"
    }
   ],
   "source": [
    "#regression plot\n",
    "sns.regplot(cars[\"Model\"],cars['Sales in thousands'])"
   ]
  },
  {
   "cell_type": "code",
   "execution_count": null,
   "metadata": {},
   "outputs": [],
   "source": []
  }
 ],
 "metadata": {
  "kernelspec": {
   "display_name": "Python 3",
   "language": "python",
   "name": "python3"
  },
  "language_info": {
   "codemirror_mode": {
    "name": "ipython",
    "version": 3
   },
   "file_extension": ".py",
   "mimetype": "text/x-python",
   "name": "python",
   "nbconvert_exporter": "python",
   "pygments_lexer": "ipython3",
   "version": "3.7.1"
  }
 },
 "nbformat": 4,
 "nbformat_minor": 2
}
